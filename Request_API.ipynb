{
 "cells": [
  {
   "cell_type": "code",
   "id": "initial_id",
   "metadata": {
    "collapsed": true,
    "ExecuteTime": {
     "end_time": "2024-10-07T21:48:31.306095Z",
     "start_time": "2024-10-07T21:48:31.303095Z"
    }
   },
   "source": [
    "import requests\n",
    "import pandas as pd"
   ],
   "outputs": [],
   "execution_count": 68
  },
  {
   "metadata": {
    "ExecuteTime": {
     "end_time": "2024-10-07T21:48:31.323112Z",
     "start_time": "2024-10-07T21:48:31.320253Z"
    }
   },
   "cell_type": "code",
   "source": "url = 'https://db.ygoprodeck.com/api/v7/cardinfo.php?misc=yes'",
   "id": "1e551a6475b98a1",
   "outputs": [],
   "execution_count": 69
  },
  {
   "metadata": {
    "ExecuteTime": {
     "end_time": "2024-10-07T21:48:33.750119Z",
     "start_time": "2024-10-07T21:48:31.365642Z"
    }
   },
   "cell_type": "code",
   "source": [
    "response = requests.get(url)\n",
    "database = response.json() "
   ],
   "id": "e29f17cedf66a0fd",
   "outputs": [],
   "execution_count": 70
  },
  {
   "metadata": {
    "ExecuteTime": {
     "end_time": "2024-10-07T22:27:54.932004Z",
     "start_time": "2024-10-07T22:27:54.857867Z"
    }
   },
   "cell_type": "code",
   "source": [
    "df = pd.DataFrame(database['data'])\n",
    "\n",
    "final_df = df[['id', 'name', 'race', 'type', 'frameType', 'misc_info']].copy() \n",
    "\n",
    "final_df.loc[:, 'tcg_date'] = final_df['misc_info'].apply(\n",
    "    lambda x: x[0]['tcg_date'] if x and isinstance(x, list) and 'tcg_date' in x[0] else None\n",
    ")\n",
    "\n",
    "final_df.drop(columns=['misc_info'], inplace=True)"
   ],
   "id": "b17a976b1c503f7d",
   "outputs": [],
   "execution_count": 91
  },
  {
   "metadata": {
    "ExecuteTime": {
     "end_time": "2024-10-07T22:27:56.903267Z",
     "start_time": "2024-10-07T22:27:56.895196Z"
    }
   },
   "cell_type": "code",
   "source": "print(final_df.sample())",
   "id": "e126e699a3b8f712",
   "outputs": [
    {
     "name": "stdout",
     "output_type": "stream",
     "text": [
      "            id                      name   race            type frameType  \\\n",
      "9210  86605515  Qardan the Clear-Sighted  Fairy  Effect Monster    effect   \n",
      "\n",
      "        tcg_date  \n",
      "9210  2023-02-09  \n"
     ]
    }
   ],
   "execution_count": 92
  },
  {
   "metadata": {
    "ExecuteTime": {
     "end_time": "2024-10-07T22:28:32.967113Z",
     "start_time": "2024-10-07T22:28:32.923726Z"
    }
   },
   "cell_type": "code",
   "source": "final_df.to_csv('YuGiOh_Project1.csv', index=False)",
   "id": "f4ccf2e8ad0f7c29",
   "outputs": [],
   "execution_count": 93
  }
 ],
 "metadata": {
  "kernelspec": {
   "display_name": "Python 3",
   "language": "python",
   "name": "python3"
  },
  "language_info": {
   "codemirror_mode": {
    "name": "ipython",
    "version": 2
   },
   "file_extension": ".py",
   "mimetype": "text/x-python",
   "name": "python",
   "nbconvert_exporter": "python",
   "pygments_lexer": "ipython2",
   "version": "2.7.6"
  }
 },
 "nbformat": 4,
 "nbformat_minor": 5
}
