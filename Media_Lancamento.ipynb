{
 "cells": [
  {
   "cell_type": "code",
   "id": "initial_id",
   "metadata": {
    "collapsed": true,
    "ExecuteTime": {
     "end_time": "2024-10-22T21:42:07.936858Z",
     "start_time": "2024-10-22T21:42:07.932765Z"
    }
   },
   "source": "import pandas as pd\n",
   "outputs": [],
   "execution_count": 8
  },
  {
   "metadata": {
    "ExecuteTime": {
     "end_time": "2024-10-22T21:42:07.967512Z",
     "start_time": "2024-10-22T21:42:07.947291Z"
    }
   },
   "cell_type": "code",
   "source": "df = pd.read_csv('YuGiOh_Project1.csv')",
   "id": "6e95294120f9074b",
   "outputs": [],
   "execution_count": 9
  },
  {
   "metadata": {
    "ExecuteTime": {
     "end_time": "2024-10-22T21:42:08.005438Z",
     "start_time": "2024-10-22T21:42:07.998231Z"
    }
   },
   "cell_type": "code",
   "source": "df['tcg_date'] = pd.to_datetime(df['tcg_date'])",
   "id": "6aae1e4d92f8a1c9",
   "outputs": [],
   "execution_count": 10
  },
  {
   "metadata": {
    "ExecuteTime": {
     "end_time": "2024-10-22T21:42:08.060001Z",
     "start_time": "2024-10-22T21:42:08.052174Z"
    }
   },
   "cell_type": "code",
   "source": "df = df.sort_values(by='tcg_date')",
   "id": "f1db72c0b3835b23",
   "outputs": [],
   "execution_count": 11
  },
  {
   "metadata": {
    "ExecuteTime": {
     "end_time": "2024-10-22T21:42:08.112820Z",
     "start_time": "2024-10-22T21:42:08.103063Z"
    }
   },
   "cell_type": "code",
   "source": "df = df.dropna(subset=['tcg_date'])",
   "id": "fafeb80480c22936",
   "outputs": [],
   "execution_count": 12
  },
  {
   "metadata": {
    "ExecuteTime": {
     "end_time": "2024-10-22T21:43:39.395384Z",
     "start_time": "2024-10-22T21:43:39.385155Z"
    }
   },
   "cell_type": "code",
   "source": "df.head()",
   "id": "6dc4885453d55877",
   "outputs": [
    {
     "data": {
      "text/plain": [
       "             id                  name     race            type frameType  \\\n",
       "11084  70781052        Summoned Skull    Fiend  Normal Monster    normal   \n",
       "2606   53129443             Dark Hole   Normal      Spell Card     spell   \n",
       "10389   1557499  Silver Bow and Arrow    Equip      Spell Card     spell   \n",
       "3398   16353197       Drooling Lizard  Reptile  Normal Monster    normal   \n",
       "10390  90357090           Silver Fang    Beast  Normal Monster    normal   \n",
       "\n",
       "        tcg_date  \n",
       "11084 2001-01-01  \n",
       "2606  2002-03-08  \n",
       "10389 2002-03-08  \n",
       "3398  2002-03-08  \n",
       "10390 2002-03-08  "
      ],
      "text/html": [
       "<div>\n",
       "<style scoped>\n",
       "    .dataframe tbody tr th:only-of-type {\n",
       "        vertical-align: middle;\n",
       "    }\n",
       "\n",
       "    .dataframe tbody tr th {\n",
       "        vertical-align: top;\n",
       "    }\n",
       "\n",
       "    .dataframe thead th {\n",
       "        text-align: right;\n",
       "    }\n",
       "</style>\n",
       "<table border=\"1\" class=\"dataframe\">\n",
       "  <thead>\n",
       "    <tr style=\"text-align: right;\">\n",
       "      <th></th>\n",
       "      <th>id</th>\n",
       "      <th>name</th>\n",
       "      <th>race</th>\n",
       "      <th>type</th>\n",
       "      <th>frameType</th>\n",
       "      <th>tcg_date</th>\n",
       "    </tr>\n",
       "  </thead>\n",
       "  <tbody>\n",
       "    <tr>\n",
       "      <th>11084</th>\n",
       "      <td>70781052</td>\n",
       "      <td>Summoned Skull</td>\n",
       "      <td>Fiend</td>\n",
       "      <td>Normal Monster</td>\n",
       "      <td>normal</td>\n",
       "      <td>2001-01-01</td>\n",
       "    </tr>\n",
       "    <tr>\n",
       "      <th>2606</th>\n",
       "      <td>53129443</td>\n",
       "      <td>Dark Hole</td>\n",
       "      <td>Normal</td>\n",
       "      <td>Spell Card</td>\n",
       "      <td>spell</td>\n",
       "      <td>2002-03-08</td>\n",
       "    </tr>\n",
       "    <tr>\n",
       "      <th>10389</th>\n",
       "      <td>1557499</td>\n",
       "      <td>Silver Bow and Arrow</td>\n",
       "      <td>Equip</td>\n",
       "      <td>Spell Card</td>\n",
       "      <td>spell</td>\n",
       "      <td>2002-03-08</td>\n",
       "    </tr>\n",
       "    <tr>\n",
       "      <th>3398</th>\n",
       "      <td>16353197</td>\n",
       "      <td>Drooling Lizard</td>\n",
       "      <td>Reptile</td>\n",
       "      <td>Normal Monster</td>\n",
       "      <td>normal</td>\n",
       "      <td>2002-03-08</td>\n",
       "    </tr>\n",
       "    <tr>\n",
       "      <th>10390</th>\n",
       "      <td>90357090</td>\n",
       "      <td>Silver Fang</td>\n",
       "      <td>Beast</td>\n",
       "      <td>Normal Monster</td>\n",
       "      <td>normal</td>\n",
       "      <td>2002-03-08</td>\n",
       "    </tr>\n",
       "  </tbody>\n",
       "</table>\n",
       "</div>"
      ]
     },
     "execution_count": 16,
     "metadata": {},
     "output_type": "execute_result"
    }
   ],
   "execution_count": 16
  },
  {
   "metadata": {
    "ExecuteTime": {
     "end_time": "2024-10-22T21:42:08.162839Z",
     "start_time": "2024-10-22T21:42:08.156617Z"
    }
   },
   "cell_type": "code",
   "source": "diferenca_dias = df['tcg_date'].diff().dt.days",
   "id": "c545f7d557e5c266",
   "outputs": [],
   "execution_count": 13
  },
  {
   "metadata": {
    "ExecuteTime": {
     "end_time": "2024-10-22T21:42:08.210050Z",
     "start_time": "2024-10-22T21:42:08.206849Z"
    }
   },
   "cell_type": "code",
   "source": [
    "media_intervalo = diferenca_dias.mean()\n",
    "media_intervalo_arredondada = round(media_intervalo, 2)"
   ],
   "id": "e48a4070883e0881",
   "outputs": [],
   "execution_count": 14
  },
  {
   "metadata": {
    "ExecuteTime": {
     "end_time": "2024-10-22T21:42:08.260753Z",
     "start_time": "2024-10-22T21:42:08.257723Z"
    }
   },
   "cell_type": "code",
   "source": "print(media_intervalo_arredondada)  ",
   "id": "6d0afd69c095301a",
   "outputs": [
    {
     "name": "stdout",
     "output_type": "stream",
     "text": [
      "0.67\n"
     ]
    }
   ],
   "execution_count": 15
  }
 ],
 "metadata": {
  "kernelspec": {
   "display_name": "Python 3",
   "language": "python",
   "name": "python3"
  },
  "language_info": {
   "codemirror_mode": {
    "name": "ipython",
    "version": 2
   },
   "file_extension": ".py",
   "mimetype": "text/x-python",
   "name": "python",
   "nbconvert_exporter": "python",
   "pygments_lexer": "ipython2",
   "version": "2.7.6"
  }
 },
 "nbformat": 4,
 "nbformat_minor": 5
}
